{
  "nbformat": 4,
  "nbformat_minor": 0,
  "metadata": {
    "colab": {
      "name": "BC_cm2_exercise.ipynb",
      "provenance": [],
      "authorship_tag": "ABX9TyO9qdHskQRtCPh6KFmnKkPb",
      "include_colab_link": true
    },
    "kernelspec": {
      "name": "python3",
      "display_name": "Python 3"
    },
    "language_info": {
      "name": "python"
    }
  },
  "cells": [
    {
      "cell_type": "markdown",
      "metadata": {
        "id": "view-in-github",
        "colab_type": "text"
      },
      "source": [
        "<a href=\"https://colab.research.google.com/github/alialdakheel/BlockCipher_exercise/blob/main/BC_cm2_exercise.ipynb\" target=\"_parent\"><img src=\"https://colab.research.google.com/assets/colab-badge.svg\" alt=\"Open In Colab\"/></a>"
      ]
    },
    {
      "cell_type": "code",
      "metadata": {
        "id": "Sj1hB6b30LpL"
      },
      "source": [
        "\"\"\"\n",
        "  Cipher model 2: SPN cipher\n",
        "  Use 4 Sboxes each 4x4 and a linear layer (function) \n",
        "  to build a 16-bit block cipher\n",
        "\"\"\"\n",
        "class CM2:\n",
        "  \"\"\"\n",
        "    @ Param:\n",
        "      sbox: sepcify the sbox to be used (a list)\n",
        "      lfx: a function specifing the linear layer\n",
        "      r: number of rounds\n",
        "  \"\"\"\n",
        "  def __init__(self, sbox, lfx, inv_lfx, r):\n",
        "    self.sbox = sbox\n",
        "    self.inv_sbox = [sbox.index(i) for i in range(len(sbox))]\n",
        "    self.lfx = lfx\n",
        "    self.inv_lfx = inv_lfx\n",
        "    self.r = r\n",
        "\n",
        "  def _bytestolist(self, b):\n",
        "    return [b[0] >> 4, b[0] & 15, b[1] >> 4, b[1] & 15]\n",
        "  \n",
        "  def _listtobytes(self, l):\n",
        "    return bytes([(l[0] << 4) + l[1], (l[2] << 4) + l[3]])\n",
        "\n",
        "  def _enc_round(self, s, k):\n",
        "    sub_out = self._listtobytes([self.sbox[w] for w in self._bytestolist(s)])\n",
        "    lfx_out = self.lfx(sub_out)\n",
        "    return bytes([w ^ kw for w, kw in zip(lfx_out, k)])\n",
        "\n",
        "  def _dec_round(self, s, k):\n",
        "    lfx_out = self.inv_lfx(s)\n",
        "    sub_out = self._listtobytes([self.inv_sbox[w] for w in self._bytestolist(lfx_out)])\n",
        "    return bytes([w ^ kw for w, kw in zip(sub_out, k)])\n",
        "\n",
        "  def enc(self, p, k):\n",
        "    assert(len(k) == (self.r + 1) * 2)\n",
        "    sk = k[0:2]\n",
        "    s = bytes([w ^ kw for w, kw in zip(p, sk)])\n",
        "    for i in range(self.r):\n",
        "      rk = k[i*2+2:i*2+4]\n",
        "      s = self._enc_round(s, rk)\n",
        "    return s\n",
        "\n",
        "  def dec(self, c, k):\n",
        "    assert(len(k) == (self.r + 1) * 2)\n",
        "    sk = k[-2:]\n",
        "    s = bytes([w ^ kw for w, kw in zip(c, sk)])\n",
        "    for i in range(self.r):\n",
        "      rk = k[-i*2-4:-i*2-2]\n",
        "      s = self._dec_round(s, rk)\n",
        "    return s"
      ],
      "execution_count": 1,
      "outputs": []
    },
    {
      "cell_type": "code",
      "source": [
        "sbox = [1,2,3,0,4,5,7,6,8,9,11,10,12,13,15,14]\n",
        "cm2 = CM2(sbox, lambda x: x[::-1], lambda x: x[::-1], 2)"
      ],
      "metadata": {
        "id": "1b6vQ88Ord7m"
      },
      "execution_count": 13,
      "outputs": []
    },
    {
      "cell_type": "code",
      "source": [
        "p = 'he'\n",
        "b = p.encode()"
      ],
      "metadata": {
        "id": "ddoIg3GuwCEX"
      },
      "execution_count": 14,
      "outputs": []
    },
    {
      "cell_type": "code",
      "source": [
        "k = 'helloo'.encode()"
      ],
      "metadata": {
        "id": "qtWkiOxPowuG"
      },
      "execution_count": 15,
      "outputs": []
    },
    {
      "cell_type": "code",
      "source": [
        "c = cm2.enc(b, k)"
      ],
      "metadata": {
        "id": "_FhYOt9JVoiq"
      },
      "execution_count": 17,
      "outputs": []
    },
    {
      "cell_type": "code",
      "source": [
        "cm2.dec(c, k)"
      ],
      "metadata": {
        "id": "6qcYsEI5YiaX",
        "colab": {
          "base_uri": "https://localhost:8080/"
        },
        "outputId": "d72238ad-4a10-45a6-ab80-3293afbf533d"
      },
      "execution_count": 18,
      "outputs": [
        {
          "output_type": "execute_result",
          "data": {
            "text/plain": [
              "b'he'"
            ]
          },
          "metadata": {},
          "execution_count": 18
        }
      ]
    }
  ]
}